{
 "cells": [
  {
   "cell_type": "markdown",
   "metadata": {},
   "source": [
    "# Gathering Data - Yelp \n",
    "**_Authors:_** *Alex Lau, Despina Matos, Julie Vovchenko, and Kelly Wu* "
   ]
  },
  {
   "cell_type": "markdown",
   "metadata": {},
   "source": [
    "We decided to gather data from [Yelp Fusion API](https://www.yelp.com/fusion) to answer our problem statement. The [API documentation](https://www.yelp.com/developers/documentation/v3/business_search) states that it will return a maximum of 1000 businesses based on the provided search criteria. Yet, we can only pull 50 results per request. Thus, lets create a loop to retrieve the businesses data for the borough of Manhattan. We decided on the borough of Manhattan because there is a lot of income diversity in this borough."
   ]
  },
  {
   "cell_type": "markdown",
   "metadata": {},
   "source": [
    "## Table of Contents\n",
    "- [Libraries](#Libraries)\n",
    "- [API Loop to Retrieve Business Data for Manhattan](#API-Loop-to-Retrieve-Business-Data-for-Manhattan)\n",
    "- [Including Zipcodes](#Including-Zipcodes)\n",
    "- [Saving the Dataset](#Saving-the-Dataset)"
   ]
  },
  {
   "cell_type": "markdown",
   "metadata": {},
   "source": [
    "## Libraries"
   ]
  },
  {
   "cell_type": "markdown",
   "metadata": {},
   "source": [
    "Lets begin by importing the libraries we need. We will need the requests library to ask and pull in the .json file from Yelp. Then, we need the json library to hide our API key. We will be using [Store API Credentials For Open Source Projects](https://chrisalbon.com/python/basics/store_api_credentials_for_open_source_projects/) for this task. Then, we will need the time library to put thought into the number of requests per second we are requesting on the Yelp's server. Lastly, we will need the pandas library to create a dataframe that we can work with it later on. "
   ]
  },
  {
   "cell_type": "code",
   "execution_count": null,
   "metadata": {},
   "outputs": [],
   "source": [
    "#Pulling in the data\n",
    "import requests\n",
    "\n",
    "#Hiding our api key\n",
    "import json\n",
    "\n",
    "#Creating a time.sleep request\n",
    "import time\n",
    "\n",
    "#Creating a workable dataset\n",
    "import pandas as pd"
   ]
  },
  {
   "cell_type": "markdown",
   "metadata": {},
   "source": [
    "We imported our libraries lets create our loop."
   ]
  },
  {
   "cell_type": "markdown",
   "metadata": {},
   "source": [
    "## API Loop to Retrieve Business Data for Manhattan"
   ]
  },
  {
   "cell_type": "markdown",
   "metadata": {},
   "source": [
    "Again, we decided to use the borough of Mahattan to retrieve the business data from Yelp. However, we will not be guaranteed that the data we gather is unique because there could still be duplicates in the .json file. Thus, we will drop duplicates later on after retrieving the file. In our loop, we will use our API credentials to obtain our .json file from https://api.yelp.com/v3/businesses/search. Again, we will set our pulls 50 per request and use our sleep function to consider how many pulls we are getting from the Yelp's server. In sum, to pull in 5000 reviews, we will pull in 20 times."
   ]
  },
  {
   "cell_type": "code",
   "execution_count": null,
   "metadata": {},
   "outputs": [],
   "source": [
    "#Creating the JSON with our API credentials\n",
    "with open('../env.json') as creds:    \n",
    "    credentials = json.load(creds)"
   ]
  },
  {
   "cell_type": "code",
   "execution_count": null,
   "metadata": {},
   "outputs": [],
   "source": [
    "#Reference by Eddie Yip, Hadi Morrow, and Mahdi Shadkam-Farrokhi\n",
    "\n",
    "#the location we want to pull in \n",
    "borough = ['Manhattan'] \n",
    "#the .json file will be saved in\n",
    "data = []\n",
    "#start the count at 1\n",
    "count = 1\n",
    "#starting the for loop\n",
    "for yelp_review in borough:\n",
    "    #for each pull, pull in 20 times\n",
    "    for _ in range(20):\n",
    "        #using the url\n",
    "        URL = 'https://api.yelp.com/v3/businesses/search'\n",
    "        #using our api key\n",
    "        API_KEY = credentials['yelp_api_key']\n",
    "        #50 pulls per request (params)\n",
    "        params = {'location': yelp_review, \n",
    "                  'limit': 50 ,\n",
    "                  'offset': 50 * _} \n",
    "        #Need authorization by using our api key to pull in data\n",
    "        headers = {'Authorization': 'bearer %s' % API_KEY}\n",
    "        #Send a get request to Yelp\n",
    "        response = requests.get(url=URL, params = params, headers = headers)\n",
    "        #adding all the items into the data list\n",
    "        data.extend(response.json()['businesses'])#need the businesses ID to get the .json file\n",
    "        #if the length of data is equal to zero then don't put it in the data list \n",
    "        if len(data) == 0:\n",
    "            break\n",
    "        #count until 20   \n",
    "        count += 1\n",
    "        #using the sleep function to pull in slowly for each pull \n",
    "        time.sleep(3)"
   ]
  },
  {
   "cell_type": "markdown",
   "metadata": {},
   "source": [
    "We were sucessfully able to pull the business data from Yelp, however, we will need a filter to guarantee that we can get the reviews in Manhattan. Thus, we will now include zip codes in our loop to obtain the correct data because based on our problem statement, we need to consider neighborhoods. "
   ]
  },
  {
   "cell_type": "markdown",
   "metadata": {},
   "source": [
    "## Including Zipcodes"
   ]
  },
  {
   "cell_type": "markdown",
   "metadata": {},
   "source": [
    "Using the [ZIP Code Definitions of New York City Neighborhoods](https://www.health.ny.gov/statistics/cancer/registry/appendix/neighborhoods.htm), we were able to detemine that Manhattan has 43 livable zip codes. Therefore, we will now include zip codes with our loop above."
   ]
  },
  {
   "cell_type": "code",
   "execution_count": null,
   "metadata": {},
   "outputs": [],
   "source": [
    "#Reference by Eddie Yip, Hadi Morrow, and Mahdi Shadkam-Farrokhi\n",
    "\n",
    "#creating our zip code list \n",
    "zip_code_list = [\n",
    "    '10026', \n",
    "    '10027', \n",
    "    '10030', \n",
    "    '10037', \n",
    "    '10039', \n",
    "    '10001', \n",
    "    '10011', \n",
    "    '10018', \n",
    "    '10019', \n",
    "    '10020', \n",
    "    '10036', \n",
    "    '10029', \n",
    "    '10035', \n",
    "    '10010', \n",
    "    '10016', \n",
    "    '10017', \n",
    "    '10022', \n",
    "    '10012', \n",
    "    '10013', \n",
    "    '10014',\n",
    "    '10004',\n",
    "    '10005', \n",
    "    '10006', \n",
    "    '10007', \n",
    "    '10038', \n",
    "    '10280', \n",
    "    '10002', \n",
    "    '10003', \n",
    "    '10009',\n",
    "    '10021', \n",
    "    '10028', \n",
    "    '10044', \n",
    "    '10065', \n",
    "    '10075', \n",
    "    '10128', \n",
    "    '10023', \n",
    "    '10024', \n",
    "    '10025', \n",
    "    '10031', \n",
    "    '10032', \n",
    "    '10033', \n",
    "    '10034', \n",
    "    '10040'\n",
    "]\n",
    "#start the count at 1\n",
    "count = 1\n",
    "#starting the for loop\n",
    "for zip_code in zip_code_list:\n",
    "    #for each pull, pull in 20 times\n",
    "    for _ in range(20):\n",
    "        #using the url\n",
    "        URL = 'https://api.yelp.com/v3/businesses/search'\n",
    "        #using our api key\n",
    "        API_KEY = credentials['yelp_api_key']\n",
    "        #50 pulls per request (params)\n",
    "        params = {'location': zip_code,\n",
    "                  'limit': 50,\n",
    "                  'offset': 50 * _}\n",
    "        #Need authorization by using our api key to pull in data\n",
    "        headers = {'Authorization': 'bearer %s' % API_KEY}\n",
    "        #Send a get request to Yelp\n",
    "        response = requests.get(url=URL, params = params, headers = headers)\n",
    "        #getting new items into the data list\n",
    "        businesses = response.json()['businesses'] #need the businesses ID to get the .json file\n",
    "        #if the length of new data is equal to zero then don't put it in the data list \n",
    "        if len(businesses) == 0:\n",
    "            break\n",
    "        #adding the new data into the data list    \n",
    "        data.extend(businesses)\n",
    "        #count until 20 \n",
    "        count += 1\n",
    "        #using the sleep function to pull in slowly for each pull \n",
    "        time.sleep(3)"
   ]
  },
  {
   "cell_type": "markdown",
   "metadata": {},
   "source": [
    "We were sucessfully able to pull from Yelp again and get the correct data that we want to answer our problem statement. Finally, lets create a dataframe with this .json file so that we can work with it later on."
   ]
  },
  {
   "cell_type": "markdown",
   "metadata": {},
   "source": [
    "## Saving the Dataset"
   ]
  },
  {
   "cell_type": "markdown",
   "metadata": {},
   "source": [
    "Before we save our data, we need to create a dataframe and drop the duplicate rows in the dataframe."
   ]
  },
  {
   "cell_type": "code",
   "execution_count": null,
   "metadata": {},
   "outputs": [],
   "source": [
    "#creating a dataframe with yelp data\n",
    "manhattan = pd.DataFrame(data)"
   ]
  },
  {
   "cell_type": "code",
   "execution_count": null,
   "metadata": {},
   "outputs": [],
   "source": [
    "#dropping the duplicates \n",
    "manhattan.drop_duplicates(subset='id', inplace = True)"
   ]
  },
  {
   "cell_type": "markdown",
   "metadata": {},
   "source": [
    "We were able to sucessfully drop the duplicates. So, lets save our data."
   ]
  },
  {
   "cell_type": "code",
   "execution_count": null,
   "metadata": {},
   "outputs": [],
   "source": [
    "#Here is what we will like to save it as\n",
    "#index = false for no index column\n",
    "manhattan_df = manhattan.to_csv('../Client_Project_Yelp_Affluence/manhattan.csv', index = False)"
   ]
  }
 ],
 "metadata": {
  "kernelspec": {
   "display_name": "Python 3",
   "language": "python",
   "name": "python3"
  },
  "language_info": {
   "codemirror_mode": {
    "name": "ipython",
    "version": 3
   },
   "file_extension": ".py",
   "mimetype": "text/x-python",
   "name": "python",
   "nbconvert_exporter": "python",
   "pygments_lexer": "ipython3",
   "version": "3.7.4"
  }
 },
 "nbformat": 4,
 "nbformat_minor": 2
}
